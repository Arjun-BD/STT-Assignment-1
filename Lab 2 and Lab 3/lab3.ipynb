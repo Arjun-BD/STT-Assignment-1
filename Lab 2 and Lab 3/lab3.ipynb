{
 "cells": [
  {
   "cell_type": "code",
   "execution_count": 1,
   "id": "ee23b420",
   "metadata": {},
   "outputs": [],
   "source": [
    "import pandas as pd\n",
    "import matplotlib.pyplot as plt"
   ]
  },
  {
   "cell_type": "code",
   "execution_count": 2,
   "id": "12030cf5",
   "metadata": {},
   "outputs": [
    {
     "data": {
      "text/html": [
       "<div>\n",
       "<style scoped>\n",
       "    .dataframe tbody tr th:only-of-type {\n",
       "        vertical-align: middle;\n",
       "    }\n",
       "\n",
       "    .dataframe tbody tr th {\n",
       "        vertical-align: top;\n",
       "    }\n",
       "\n",
       "    .dataframe thead th {\n",
       "        text-align: right;\n",
       "    }\n",
       "</style>\n",
       "<table border=\"1\" class=\"dataframe\">\n",
       "  <thead>\n",
       "    <tr style=\"text-align: right;\">\n",
       "      <th></th>\n",
       "      <th>Hash</th>\n",
       "      <th>Message</th>\n",
       "      <th>Filename</th>\n",
       "      <th>Source Code (before)</th>\n",
       "      <th>Source Code (after)</th>\n",
       "      <th>Diff</th>\n",
       "      <th>LLM Inference (fix type)</th>\n",
       "      <th>Rectified Message</th>\n",
       "    </tr>\n",
       "  </thead>\n",
       "  <tbody>\n",
       "    <tr>\n",
       "      <th>0</th>\n",
       "      <td>c9832a76f6af231bffde5209ae0b0377be8d6a45</td>\n",
       "      <td>fix: add default config for torch optimizer\\n\\...</td>\n",
       "      <td>naf.py</td>\n",
       "      <td>\"\"\"Continuous Q-Learning with Normalized Advan...</td>\n",
       "      <td>\"\"\"Continuous Q-Learning with Normalized Advan...</td>\n",
       "      <td>@@ -13,6 +13,8 @@ DEFAULT_CONFIG = with_common...</td>\n",
       "      <td>add default config for torch optimizer</td>\n",
       "      <td>add default config for torch optimizernodeliff</td>\n",
       "    </tr>\n",
       "    <tr>\n",
       "      <th>1</th>\n",
       "      <td>570441605fd5982d557fa673596f7572e4f3e9bb</td>\n",
       "      <td>fix(naf): disable gradient computation in comp...</td>\n",
       "      <td>naf_policy.py</td>\n",
       "      <td>\"\"\"NAF policy class using PyTorch.\"\"\"\\nimport ...</td>\n",
       "      <td>\"\"\"NAF policy class using PyTorch.\"\"\"\\nimport ...</td>\n",
       "      <td>@@ -42,8 +42,9 @@ class NAFTorchPolicy(Policy)...</td>\n",
       "      <td>fix missing torch.no_grad() in naf</td>\n",
       "      <td>fix missing torch.no_grad() in naforchpolicy</td>\n",
       "    </tr>\n",
       "    <tr>\n",
       "      <th>2</th>\n",
       "      <td>265fc2e1faaf5ba4d9effcc7eb4fdf16fa14c5d6</td>\n",
       "      <td>fix(td3): check if horizon is None\\n\\nSigned-o...</td>\n",
       "      <td>ddpg_policy.py</td>\n",
       "      <td>\"\"\"Updated DDPG policy with Partial Episode Bo...</td>\n",
       "      <td>\"\"\"Updated DDPG policy with Partial Episode Bo...</td>\n",
       "      <td>@@ -5,14 +5,17 @@ from ray.rllib.agents.ddpg i...</td>\n",
       "      <td>fix postprocessing of sample batches</td>\n",
       "      <td>fix postprocessing of sample batches</td>\n",
       "    </tr>\n",
       "    <tr>\n",
       "      <th>3</th>\n",
       "      <td>60fc408c34db933570397e6a919429067de83e27</td>\n",
       "      <td>fix(naf): return info dict with loss computati...</td>\n",
       "      <td>naf_policy.py</td>\n",
       "      <td>\"\"\"NAF policy class using PyTorch.\"\"\"\\nimport ...</td>\n",
       "      <td>\"\"\"NAF policy class using PyTorch.\"\"\"\\nimport ...</td>\n",
       "      <td>@@ -101,7 +101,7 @@ class NAFTorchPolicy(Polic...</td>\n",
       "      <td>fix missing default config</td>\n",
       "      <td>fix missing default config</td>\n",
       "    </tr>\n",
       "    <tr>\n",
       "      <th>4</th>\n",
       "      <td>aa154c5c82be0b16c5cfcf03a8db91058cf03a40</td>\n",
       "      <td>fix(tests): return scalar reward in MockEnv\\n\\...</td>\n",
       "      <td>mock_env.py</td>\n",
       "      <td>\"\"\"Dummy gym.Env subclasses.\"\"\"\\nimport gym\\nf...</td>\n",
       "      <td>\"\"\"Dummy gym.Env subclasses.\"\"\"\\nimport gym\\nf...</td>\n",
       "      <td>@@ -21,4 +21,4 @@ class MockEnv(gym.Env):  # p...</td>\n",
       "      <td>fix test_gym_env_test.py</td>\n",
       "      <td>fix test_gym_env_test.py</td>\n",
       "    </tr>\n",
       "  </tbody>\n",
       "</table>\n",
       "</div>"
      ],
      "text/plain": [
       "                                       Hash  \\\n",
       "0  c9832a76f6af231bffde5209ae0b0377be8d6a45   \n",
       "1  570441605fd5982d557fa673596f7572e4f3e9bb   \n",
       "2  265fc2e1faaf5ba4d9effcc7eb4fdf16fa14c5d6   \n",
       "3  60fc408c34db933570397e6a919429067de83e27   \n",
       "4  aa154c5c82be0b16c5cfcf03a8db91058cf03a40   \n",
       "\n",
       "                                             Message        Filename  \\\n",
       "0  fix: add default config for torch optimizer\\n\\...          naf.py   \n",
       "1  fix(naf): disable gradient computation in comp...   naf_policy.py   \n",
       "2  fix(td3): check if horizon is None\\n\\nSigned-o...  ddpg_policy.py   \n",
       "3  fix(naf): return info dict with loss computati...   naf_policy.py   \n",
       "4  fix(tests): return scalar reward in MockEnv\\n\\...     mock_env.py   \n",
       "\n",
       "                                Source Code (before)  \\\n",
       "0  \"\"\"Continuous Q-Learning with Normalized Advan...   \n",
       "1  \"\"\"NAF policy class using PyTorch.\"\"\"\\nimport ...   \n",
       "2  \"\"\"Updated DDPG policy with Partial Episode Bo...   \n",
       "3  \"\"\"NAF policy class using PyTorch.\"\"\"\\nimport ...   \n",
       "4  \"\"\"Dummy gym.Env subclasses.\"\"\"\\nimport gym\\nf...   \n",
       "\n",
       "                                 Source Code (after)  \\\n",
       "0  \"\"\"Continuous Q-Learning with Normalized Advan...   \n",
       "1  \"\"\"NAF policy class using PyTorch.\"\"\"\\nimport ...   \n",
       "2  \"\"\"Updated DDPG policy with Partial Episode Bo...   \n",
       "3  \"\"\"NAF policy class using PyTorch.\"\"\"\\nimport ...   \n",
       "4  \"\"\"Dummy gym.Env subclasses.\"\"\"\\nimport gym\\nf...   \n",
       "\n",
       "                                                Diff  \\\n",
       "0  @@ -13,6 +13,8 @@ DEFAULT_CONFIG = with_common...   \n",
       "1  @@ -42,8 +42,9 @@ class NAFTorchPolicy(Policy)...   \n",
       "2  @@ -5,14 +5,17 @@ from ray.rllib.agents.ddpg i...   \n",
       "3  @@ -101,7 +101,7 @@ class NAFTorchPolicy(Polic...   \n",
       "4  @@ -21,4 +21,4 @@ class MockEnv(gym.Env):  # p...   \n",
       "\n",
       "                 LLM Inference (fix type)  \\\n",
       "0  add default config for torch optimizer   \n",
       "1      fix missing torch.no_grad() in naf   \n",
       "2    fix postprocessing of sample batches   \n",
       "3              fix missing default config   \n",
       "4                fix test_gym_env_test.py   \n",
       "\n",
       "                                Rectified Message  \n",
       "0  add default config for torch optimizernodeliff  \n",
       "1    fix missing torch.no_grad() in naforchpolicy  \n",
       "2            fix postprocessing of sample batches  \n",
       "3                      fix missing default config  \n",
       "4                        fix test_gym_env_test.py  "
      ]
     },
     "execution_count": 2,
     "metadata": {},
     "output_type": "execute_result"
    }
   ],
   "source": [
    "dataframe = pd.read_csv(\"message_commit_diffs_with_rectified_message.csv\")\n",
    "dataframe.head()"
   ]
  },
  {
   "cell_type": "code",
   "execution_count": 3,
   "id": "6f962fb3",
   "metadata": {},
   "outputs": [
    {
     "name": "stdout",
     "output_type": "stream",
     "text": [
      "Number of commits made : 385\n",
      "Number of files changed over all commits : 223\n",
      "Average number of files changed per commit : 1.7272727272727273\n"
     ]
    }
   ],
   "source": [
    "print(f\"Number of commits made : {len(dataframe['Hash'].unique())}\")\n",
    "print(f\"Number of files changed over all commits : {len(dataframe['Filename'].unique())}\")\n",
    "print(f\"Average number of files changed per commit : {len(dataframe)/len(dataframe['Hash'].unique())}\")\n"
   ]
  },
  {
   "cell_type": "code",
   "execution_count": 4,
   "id": "d9019151",
   "metadata": {},
   "outputs": [
    {
     "name": "stdout",
     "output_type": "stream",
     "text": [
      "Distribution of fix types : \n",
      "LLM Inference (fix type)\n",
      "fix         400\n",
      "add         252\n",
      "update        7\n",
      "skip          4\n",
      "raise         1\n",
      "increase      1\n",
      "Name: count, dtype: int64\n"
     ]
    }
   ],
   "source": [
    "print(f\"Distribution of fix types : \\n{dataframe['LLM Inference (fix type)'].apply(lambda x: x.split()[0]).value_counts()}\")"
   ]
  },
  {
   "cell_type": "code",
   "execution_count": 5,
   "id": "963cc487",
   "metadata": {},
   "outputs": [
    {
     "data": {
      "image/png": "[encoded data removed]",
      "text/plain": [
       "<Figure size 640x480 with 1 Axes>"
      ]
     },
     "metadata": {},
     "output_type": "display_data"
    }
   ],
   "source": [
    "dataframe['LLM Inference (fix type)'].apply(lambda x: x.split()[0]).value_counts().plot(kind='bar')\n",
    "plt.title(\"Distribution of Fix Types\") \n",
    "plt.xlabel(\"Fix Type\")\n",
    "plt.ylabel(\"Count\")\n",
    "plt.show()"
   ]
  },
  {
   "cell_type": "code",
   "execution_count": 6,
   "id": "cb95a8c4",
   "metadata": {},
   "outputs": [
    {
     "name": "stdout",
     "output_type": "stream",
     "text": [
      " Distribution of modified filenames : \n",
      " Filename\n",
      "trainer.py                 46\n",
      "policy.py                  23\n",
      "torch_policy.py            13\n",
      "mapo_policy.py             12\n",
      "off_policy.py              11\n",
      "                           ..\n",
      "solver.py                   1\n",
      "warmup.py                   1\n",
      "test_off_policy.py          1\n",
      "builders.py                 1\n",
      "optimizer_collection.py     1\n",
      "Name: count, Length: 223, dtype: int64\n"
     ]
    }
   ],
   "source": [
    "print(f\" Distribution of modified filenames : \\n {dataframe['Filename'].value_counts()}\")"
   ]
  },
  {
   "cell_type": "code",
   "execution_count": 7,
   "id": "da2fea9a",
   "metadata": {},
   "outputs": [
    {
     "data": {
      "image/png": "[encoded data removed]",
      "text/plain": [
       "<Figure size 640x480 with 1 Axes>"
      ]
     },
     "metadata": {},
     "output_type": "display_data"
    }
   ],
   "source": [
    "dataframe['Filename'].apply(lambda x: x.split(\".\")[-1]).value_counts().plot(kind='bar')\n",
    "plt.title(\"Distribution of Extensions Types modified\") \n",
    "plt.xlabel(\"Extension Type\")\n",
    "plt.ylabel(\"Count\")\n",
    "plt.show()"
   ]
  },
  {
   "cell_type": "code",
   "execution_count": 8,
   "id": "390a964a",
   "metadata": {},
   "outputs": [],
   "source": [
    "import radon\n",
    "from radon.complexity import cc_visit"
   ]
  },
  {
   "cell_type": "code",
   "execution_count": null,
   "id": "61421f05",
   "metadata": {},
   "outputs": [
    {
     "name": "stdout",
     "output_type": "stream",
     "text": [
      "                                       Hash  \\\n",
      "0  c9832a76f6af231bffde5209ae0b0377be8d6a45   \n",
      "1  570441605fd5982d557fa673596f7572e4f3e9bb   \n",
      "2  265fc2e1faaf5ba4d9effcc7eb4fdf16fa14c5d6   \n",
      "3  60fc408c34db933570397e6a919429067de83e27   \n",
      "4  aa154c5c82be0b16c5cfcf03a8db91058cf03a40   \n",
      "\n",
      "                                             Message        Filename  \\\n",
      "0  fix: add default config for torch optimizer\\n\\...          naf.py   \n",
      "1  fix(naf): disable gradient computation in comp...   naf_policy.py   \n",
      "2  fix(td3): check if horizon is None\\n\\nSigned-o...  ddpg_policy.py   \n",
      "3  fix(naf): return info dict with loss computati...   naf_policy.py   \n",
      "4  fix(tests): return scalar reward in MockEnv\\n\\...     mock_env.py   \n",
      "\n",
      "                                Source Code (before)  \\\n",
      "0  \"\"\"Continuous Q-Learning with Normalized Advan...   \n",
      "1  \"\"\"NAF policy class using PyTorch.\"\"\"\\nimport ...   \n",
      "2  \"\"\"Updated DDPG policy with Partial Episode Bo...   \n",
      "3  \"\"\"NAF policy class using PyTorch.\"\"\"\\nimport ...   \n",
      "4  \"\"\"Dummy gym.Env subclasses.\"\"\"\\nimport gym\\nf...   \n",
      "\n",
      "                                 Source Code (after)  \\\n",
      "0  \"\"\"Continuous Q-Learning with Normalized Advan...   \n",
      "1  \"\"\"NAF policy class using PyTorch.\"\"\"\\nimport ...   \n",
      "2  \"\"\"Updated DDPG policy with Partial Episode Bo...   \n",
      "3  \"\"\"NAF policy class using PyTorch.\"\"\"\\nimport ...   \n",
      "4  \"\"\"Dummy gym.Env subclasses.\"\"\"\\nimport gym\\nf...   \n",
      "\n",
      "                                                Diff  \\\n",
      "0  @@ -13,6 +13,8 @@ DEFAULT_CONFIG = with_common...   \n",
      "1  @@ -42,8 +42,9 @@ class NAFTorchPolicy(Policy)...   \n",
      "2  @@ -5,14 +5,17 @@ from ray.rllib.agents.ddpg i...   \n",
      "3  @@ -101,7 +101,7 @@ class NAFTorchPolicy(Polic...   \n",
      "4  @@ -21,4 +21,4 @@ class MockEnv(gym.Env):  # p...   \n",
      "\n",
      "                 LLM Inference (fix type)  \\\n",
      "0  add default config for torch optimizer   \n",
      "1      fix missing torch.no_grad() in naf   \n",
      "2    fix postprocessing of sample batches   \n",
      "3              fix missing default config   \n",
      "4                fix test_gym_env_test.py   \n",
      "\n",
      "                                Rectified Message  MI_Change  CC_Change  \\\n",
      "0  add default config for torch optimizernodeliff  -0.142805        0.0   \n",
      "1    fix missing torch.no_grad() in naforchpolicy   0.000000        0.0   \n",
      "2            fix postprocessing of sample batches   0.048214        0.5   \n",
      "3                      fix missing default config   0.000000        0.0   \n",
      "4                        fix test_gym_env_test.py   0.000000        0.0   \n",
      "\n",
      "   LOC_Change  \n",
      "0           2  \n",
      "1           1  \n",
      "2           3  \n",
      "3           0  \n",
      "4           0  \n"
     ]
    }
   ],
   "source": [
    "from radon.complexity import cc_visit\n",
    "from radon.metrics import mi_visit\n",
    "from radon.raw import analyze\n",
    "\n",
    "def avg_complexity(code):\n",
    "    if pd.isna(code) or not isinstance(code, str) or len(code.strip()) == 0:\n",
    "        return 0\n",
    "    code = code.replace(\"\\\\\", \"\\\\\\\\\")\n",
    "    try:\n",
    "        results = cc_visit(code)\n",
    "        if not results:\n",
    "            return 0\n",
    "        return sum(r.complexity for r in results) / len(results)\n",
    "    except:\n",
    "        return 0\n",
    "\n",
    "def maintainability_index(code):\n",
    "    if pd.isna(code) or not isinstance(code, str) or len(code.strip()) == 0:\n",
    "        return 0\n",
    "    code = code.replace(\"\\\\\", \"\\\\\\\\\")\n",
    "    try:\n",
    "        return mi_visit(code, True)\n",
    "    except:\n",
    "        return 0\n",
    "\n",
    "def loc_count(code):\n",
    "    if pd.isna(code) or not isinstance(code, str) or len(code.strip()) == 0:\n",
    "        return 0\n",
    "    code = code.replace(\"\\\\\", \"\\\\\\\\\")\n",
    "    try:\n",
    "        return analyze(code).loc\n",
    "    except:\n",
    "        return 0\n",
    "\n",
    "mi_before  = dataframe[\"Source Code (before)\"].apply(maintainability_index)\n",
    "mi_after   = dataframe[\"Source Code (after)\"].apply(maintainability_index)\n",
    "\n",
    "cc_before  = dataframe[\"Source Code (before)\"].apply(avg_complexity)\n",
    "cc_after   = dataframe[\"Source Code (after)\"].apply(avg_complexity)\n",
    "\n",
    "loc_before = dataframe[\"Source Code (before)\"].apply(loc_count)\n",
    "loc_after  = dataframe[\"Source Code (after)\"].apply(loc_count)\n",
    "dataframe[\"MI_Change\"]  = mi_after - mi_before\n",
    "dataframe[\"CC_Change\"]  = cc_after - cc_before\n",
    "dataframe[\"LOC_Change\"] = loc_after - loc_before\n",
    "\n",
    "print(dataframe.head())\n"
   ]
  },
  {
   "cell_type": "code",
   "execution_count": null,
   "id": "cf58b980",
   "metadata": {},
   "outputs": [
    {
     "name": "stderr",
     "output_type": "stream",
     "text": [
      "c:\\MYSTUFF\\Academics\\STT\\Lab 2\\sttl2\\Lib\\site-packages\\tqdm\\auto.py:21: TqdmWarning: IProgress not found. Please update jupyter and ipywidgets. See https://ipywidgets.readthedocs.io/en/stable/user_install.html\n",
      "  from .autonotebook import tqdm as notebook_tqdm\n"
     ]
    },
    {
     "name": "stdout",
     "output_type": "stream",
     "text": [
      "                                       Hash  \\\n",
      "0  c9832a76f6af231bffde5209ae0b0377be8d6a45   \n",
      "1  570441605fd5982d557fa673596f7572e4f3e9bb   \n",
      "2  265fc2e1faaf5ba4d9effcc7eb4fdf16fa14c5d6   \n",
      "3  60fc408c34db933570397e6a919429067de83e27   \n",
      "4  aa154c5c82be0b16c5cfcf03a8db91058cf03a40   \n",
      "\n",
      "                                             Message        Filename  \\\n",
      "0  fix: add default config for torch optimizer\\n\\...          naf.py   \n",
      "1  fix(naf): disable gradient computation in comp...   naf_policy.py   \n",
      "2  fix(td3): check if horizon is None\\n\\nSigned-o...  ddpg_policy.py   \n",
      "3  fix(naf): return info dict with loss computati...   naf_policy.py   \n",
      "4  fix(tests): return scalar reward in MockEnv\\n\\...     mock_env.py   \n",
      "\n",
      "                                Source Code (before)  \\\n",
      "0  \"\"\"Continuous Q-Learning with Normalized Advan...   \n",
      "1  \"\"\"NAF policy class using PyTorch.\"\"\"\\nimport ...   \n",
      "2  \"\"\"Updated DDPG policy with Partial Episode Bo...   \n",
      "3  \"\"\"NAF policy class using PyTorch.\"\"\"\\nimport ...   \n",
      "4  \"\"\"Dummy gym.Env subclasses.\"\"\"\\nimport gym\\nf...   \n",
      "\n",
      "                                 Source Code (after)  \\\n",
      "0  \"\"\"Continuous Q-Learning with Normalized Advan...   \n",
      "1  \"\"\"NAF policy class using PyTorch.\"\"\"\\nimport ...   \n",
      "2  \"\"\"Updated DDPG policy with Partial Episode Bo...   \n",
      "3  \"\"\"NAF policy class using PyTorch.\"\"\"\\nimport ...   \n",
      "4  \"\"\"Dummy gym.Env subclasses.\"\"\"\\nimport gym\\nf...   \n",
      "\n",
      "                                                Diff  \\\n",
      "0  @@ -13,6 +13,8 @@ DEFAULT_CONFIG = with_common...   \n",
      "1  @@ -42,8 +42,9 @@ class NAFTorchPolicy(Policy)...   \n",
      "2  @@ -5,14 +5,17 @@ from ray.rllib.agents.ddpg i...   \n",
      "3  @@ -101,7 +101,7 @@ class NAFTorchPolicy(Polic...   \n",
      "4  @@ -21,4 +21,4 @@ class MockEnv(gym.Env):  # p...   \n",
      "\n",
      "                 LLM Inference (fix type)  \\\n",
      "0  add default config for torch optimizer   \n",
      "1      fix missing torch.no_grad() in naf   \n",
      "2    fix postprocessing of sample batches   \n",
      "3              fix missing default config   \n",
      "4                fix test_gym_env_test.py   \n",
      "\n",
      "                                Rectified Message  MI_Change  CC_Change  \\\n",
      "0  add default config for torch optimizernodeliff  -0.142805        0.0   \n",
      "1    fix missing torch.no_grad() in naforchpolicy   0.000000        0.0   \n",
      "2            fix postprocessing of sample batches   0.048214        0.5   \n",
      "3                      fix missing default config   0.000000        0.0   \n",
      "4                        fix test_gym_env_test.py   0.000000        0.0   \n",
      "\n",
      "   LOC_Change  Semantic_Similarity  Token_Similarity  \n",
      "0           2             0.999315          0.964999  \n",
      "1           1             1.000000          0.984087  \n",
      "2           3             0.999236          0.697790  \n",
      "3           0             1.000000          0.990167  \n",
      "4           0             0.999736          0.965139  \n"
     ]
    }
   ],
   "source": [
    "import torch\n",
    "from transformers import RobertaTokenizer, RobertaModel\n",
    "from nltk.translate.bleu_score import sentence_bleu, SmoothingFunction\n",
    "tokenizer = RobertaTokenizer.from_pretrained(\"microsoft/codebert-base\")\n",
    "model = RobertaModel.from_pretrained(\"microsoft/codebert-base\")\n",
    "\n",
    "\n",
    "def get_embedding(code):\n",
    "    if pd.isna(code) or not isinstance(code, str) or len(code.strip()) == 0:\n",
    "        return torch.zeros(768)  \n",
    "    inputs = tokenizer(code, return_tensors=\"pt\", truncation=True, max_length=512)\n",
    "    with torch.no_grad():\n",
    "        outputs = model(**inputs)\n",
    "        embedding = outputs.last_hidden_state.mean(dim=1).squeeze()\n",
    "    return embedding\n",
    "\n",
    "def cosine_similarity(vec1, vec2):\n",
    "    if torch.norm(vec1) == 0 or torch.norm(vec2) == 0:\n",
    "        return 0.0\n",
    "    return torch.nn.functional.cosine_similarity(vec1.unsqueeze(0), vec2.unsqueeze(0)).item()\n",
    "\n",
    "def bleu_similarity(code1, code2):\n",
    "    if pd.isna(code1) or pd.isna(code2) or not isinstance(code1, str) or not isinstance(code2, str):\n",
    "        return 0.0\n",
    "    ref_tokens = code1.split()\n",
    "    cand_tokens = code2.split()\n",
    "    smoothie = SmoothingFunction().method4\n",
    "    return sentence_bleu([ref_tokens], cand_tokens, smoothing_function=smoothie)\n",
    "\n",
    "semantic_sims = []\n",
    "token_sims = []\n",
    "\n",
    "for before, after in zip(dataframe[\"Source Code (before)\"], dataframe[\"Source Code (after)\"]):\n",
    "    emb_before = get_embedding(before)\n",
    "    emb_after = get_embedding(after)\n",
    "\n",
    "    semantic_sims.append(cosine_similarity(emb_before, emb_after))\n",
    "    token_sims.append(bleu_similarity(before, after))\n",
    "\n",
    "dataframe[\"Semantic_Similarity\"] = semantic_sims\n",
    "dataframe[\"Token_Similarity\"] = token_sims\n",
    "\n",
    "print(dataframe.head())\n"
   ]
  },
  {
   "cell_type": "code",
   "execution_count": null,
   "id": "08a940f2",
   "metadata": {},
   "outputs": [
    {
     "name": "stdout",
     "output_type": "stream",
     "text": [
      "   Semantic_Similarity  Token_Similarity Semantic_class Token_class  \\\n",
      "0             0.999315          0.964999          Minor       Minor   \n",
      "1             1.000000          0.984087          Minor       Minor   \n",
      "2             0.999236          0.697790          Minor       Major   \n",
      "3             1.000000          0.990167          Minor       Minor   \n",
      "4             0.999736          0.965139          Minor       Minor   \n",
      "\n",
      "  Classes_Agree  \n",
      "0           YES  \n",
      "1           YES  \n",
      "2            NO  \n",
      "3           YES  \n",
      "4           YES  \n"
     ]
    }
   ],
   "source": [
    "semantic_threshold = 0.80\n",
    "token_threshold = 0.75\n",
    "\n",
    "def classify_semantic(score):\n",
    "    return \"Minor\" if score >= semantic_threshold else \"Major\"\n",
    "\n",
    "def classify_token(score):\n",
    "    return \"Minor\" if score >= token_threshold else \"Major\"\n",
    "\n",
    "dataframe[\"Semantic_class\"] = dataframe[\"Semantic_Similarity\"].apply(classify_semantic)\n",
    "dataframe[\"Token_class\"]    = dataframe[\"Token_Similarity\"].apply(classify_token)\n",
    "dataframe[\"Classes_Agree\"] = dataframe.apply(\n",
    "    lambda row: \"YES\" if row[\"Semantic_class\"] == row[\"Token_class\"] else \"NO\",\n",
    "    axis=1\n",
    ")   \n",
    "\n",
    "print(dataframe[[\"Semantic_Similarity\", \"Token_Similarity\", \n",
    "                 \"Semantic_class\", \"Token_class\", \"Classes_Agree\"]].head())\n"
   ]
  },
  {
   "cell_type": "code",
   "execution_count": 14,
   "id": "66e30299",
   "metadata": {},
   "outputs": [
    {
     "data": {
      "text/plain": [
       "Classes_Agree\n",
       "YES    618\n",
       "NO      47\n",
       "Name: count, dtype: int64"
      ]
     },
     "execution_count": 14,
     "metadata": {},
     "output_type": "execute_result"
    }
   ],
   "source": [
    "dataframe['Classes_Agree'].value_counts()"
   ]
  },
  {
   "cell_type": "code",
   "execution_count": 15,
   "id": "abd1601b",
   "metadata": {},
   "outputs": [
    {
     "data": {
      "image/png": "[encoded data removed]",
      "text/plain": [
       "<Figure size 1200x500 with 1 Axes>"
      ]
     },
     "metadata": {},
     "output_type": "display_data"
    }
   ],
   "source": [
    "import matplotlib.pyplot as plt\n",
    "\n",
    "plt.figure(figsize=(12,5))\n",
    "\n",
    "plt.hist(dataframe[\"Semantic_Similarity\"], bins=20, alpha=0.6, label=\"Semantic\", color=\"skyblue\", edgecolor=\"black\")\n",
    "plt.hist(dataframe[\"Token_Similarity\"], bins=20, alpha=0.6, label=\"Token\", color=\"salmon\", edgecolor=\"black\")\n",
    "\n",
    "plt.axvline(0.80, color=\"blue\", linestyle=\"--\", label=\"Semantic Threshold\")\n",
    "plt.axvline(0.75, color=\"red\", linestyle=\"--\", label=\"Token Threshold\")\n",
    "\n",
    "plt.title(\"Distribution of Semantic vs Token Similarity\")\n",
    "plt.xlabel(\"Similarity Score\")\n",
    "plt.ylabel(\"Frequency\")\n",
    "plt.legend()\n",
    "plt.show()\n"
   ]
  },
  {
   "cell_type": "code",
   "execution_count": null,
   "id": "a5112546",
   "metadata": {},
   "outputs": [],
   "source": [
    "dataframe.to_csv(\"output_sims.csv\", index=False)"
   ]
  },
  {
   "cell_type": "code",
   "execution_count": null,
   "id": "3a66b037",
   "metadata": {},
   "outputs": [
    {
     "name": "stdout",
     "output_type": "stream",
     "text": [
      "Semantic Similarity Classification Counts:\n",
      "Semantic_class\n",
      "Minor    636\n",
      "Major     29\n",
      "Name: count, dtype: int64\n",
      "\n",
      "Token Similarity Classification Counts:\n",
      "Token_class\n",
      "Minor    589\n",
      "Major     76\n",
      "Name: count, dtype: int64\n"
     ]
    }
   ],
   "source": [
    "semantic_counts = dataframe[\"Semantic_class\"].value_counts()\n",
    "token_counts = dataframe[\"Token_class\"].value_counts()\n",
    "\n",
    "print(\"Semantic Similarity Classification Counts:\")\n",
    "print(semantic_counts)  \n",
    "print(\"\\nToken Similarity Classification Counts:\")\n",
    "print(token_counts)\n"
   ]
  },
  {
   "cell_type": "code",
   "execution_count": 5,
   "id": "7297700d",
   "metadata": {},
   "outputs": [
    {
     "data": {
      "image/png": "[encoded data removed]",
      "text/plain": [
       "<Figure size 1800x500 with 3 Axes>"
      ]
     },
     "metadata": {},
     "output_type": "display_data"
    }
   ],
   "source": [
    "fig, axes = plt.subplots(1, 3, figsize=(18, 5))\n",
    "\n",
    "axes[0].hist(dataframe[\"MI_Change\"], bins=30, color=\"skyblue\", edgecolor=\"black\")\n",
    "axes[0].set_title(\"Distribution of MI Change\")\n",
    "axes[0].set_xlabel(\"MI Change\")\n",
    "axes[0].set_ylabel(\"Frequency\")\n",
    "\n",
    "axes[1].hist(dataframe[\"CC_Change\"], bins=30, color=\"salmon\", edgecolor=\"black\")\n",
    "axes[1].set_title(\"Distribution of CC Change\")\n",
    "axes[1].set_xlabel(\"CC Change\")\n",
    "axes[1].set_ylabel(\"Frequency\")\n",
    "\n",
    "axes[2].hist(dataframe[\"LOC_Change\"], bins=30, color=\"lightgreen\", edgecolor=\"black\")\n",
    "axes[2].set_title(\"Distribution of LOC Change\")\n",
    "axes[2].set_xlabel(\"LOC Change\")\n",
    "axes[2].set_ylabel(\"Frequency\")\n",
    "\n",
    "plt.tight_layout()\n",
    "plt.show()\n",
    "\n"
   ]
  },
  {
   "cell_type": "code",
   "execution_count": null,
   "id": "b795aff1",
   "metadata": {},
   "outputs": [],
   "source": []
  }
 ],
 "metadata": {
  "kernelspec": {
   "display_name": "sttl2",
   "language": "python",
   "name": "python3"
  },
  "language_info": {
   "codemirror_mode": {
    "name": "ipython",
    "version": 3
   },
   "file_extension": ".py",
   "mimetype": "text/x-python",
   "name": "python",
   "nbconvert_exporter": "python",
   "pygments_lexer": "ipython3",
   "version": "3.13.7"
  }
 },
 "nbformat": 4,
 "nbformat_minor": 5
}
